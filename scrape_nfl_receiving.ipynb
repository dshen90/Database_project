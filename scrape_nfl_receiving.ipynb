{
 "cells": [
  {
   "cell_type": "code",
   "execution_count": 3,
   "metadata": {},
   "outputs": [],
   "source": [
    "import pandas as pd\n",
    "from splinter import Browser\n",
    "import time\n",
    "import pymongo"
   ]
  },
  {
   "cell_type": "code",
   "execution_count": 4,
   "metadata": {},
   "outputs": [
    {
     "name": "stdout",
     "output_type": "stream",
     "text": [
      "cycle complete\n"
     ]
    }
   ],
   "source": [
    "#Set up browser\n",
    "url = 'https://www.espn.com/nfl/stats/player/_/stat/receiving'\n",
    "executable_path = {'executable_path': 'C:/Users/Daniel/Desktop/Drivers/chromedriver.exe'}\n",
    "browser = Browser('chrome', **executable_path, headless=False)\n",
    "#loop through page to scrape data at the end\n",
    "browser.visit(url)\n",
    "flag=True\n",
    "while flag:\n",
    "    try:\n",
    "        browser.click_link_by_text('Show More')\n",
    "        time.sleep(1)\n",
    "    except:\n",
    "        print('cycle complete')\n",
    "        flag= False\n",
    "if flag==False:\n",
    "    receiving_tables= pd.read_html(browser.html)\n",
    "    \n",
    "#join tables   \n",
    "df=receiving_tables[0]\n",
    "df_2=receiviing_tables[1] \n",
    "#join the tables\n",
    "mf=df.join(df_2)\n",
    "\n",
    "#clean the team names from the player names\n",
    "mf['Name'] = mf['Name'].astype(str)\n",
    "mf[['Team']]= mf['Name'].str.extract('([A-Z][A-Z]+)',expand =True)\n",
    "mf['Name'] = mf.apply(lambda x: x['Name'].replace(x['Team'],\"\"), axis=1)\n",
    "#add into mongoDB\n",
    "conn = 'mongodb://localhost:27017'\n",
    "client = pymongo.MongoClient(conn)\n",
    "db=client.NFL_StatsDB\n",
    "collection=db.receiving\n",
    "data1 = mf.to_dict(orient='records')\n",
    "collection.insert_many(data1)"
   ]
  },
  {
   "cell_type": "code",
   "execution_count": 6,
   "metadata": {},
   "outputs": [
    {
     "name": "stdout",
     "output_type": "stream",
     "text": [
      "<class 'pandas.core.frame.DataFrame'>\n",
      "RangeIndex: 431 entries, 0 to 430\n",
      "Data columns (total 17 columns):\n",
      "RK       431 non-null int64\n",
      "Name     431 non-null object\n",
      "POS      431 non-null object\n",
      "GP       431 non-null int64\n",
      "REC      431 non-null int64\n",
      "TGTS     431 non-null int64\n",
      "YDS      431 non-null int64\n",
      "AVG      431 non-null float64\n",
      "TD       431 non-null int64\n",
      "LNG      431 non-null int64\n",
      "BIG      431 non-null int64\n",
      "YDS/G    431 non-null float64\n",
      "FUM      431 non-null int64\n",
      "LST      431 non-null int64\n",
      "YAC      431 non-null int64\n",
      "FD       431 non-null int64\n",
      "Team     431 non-null object\n",
      "dtypes: float64(2), int64(12), object(3)\n",
      "memory usage: 57.4+ KB\n"
     ]
    }
   ],
   "source": []
  },
  {
   "cell_type": "code",
   "execution_count": 20,
   "metadata": {},
   "outputs": [],
   "source": [
    "# # clean team names from player names in the table\n",
    "# teams_list=[]\n",
    "# names_list=[]\n",
    "# for item in df.Name:\n",
    "#     if item[-3].isupper():\n",
    "#         teams_list.append(item[-3:])\n",
    "#         names_list.append(item[:-3])\n",
    "#     else:\n",
    "#         teams_list.append(item[-2:])\n",
    "#         names_list.append(item[:-2])\n",
    "# df.Name=names_list\n",
    "# df['Team Name']=teams_list\n",
    "\n",
    "##look into camelcase to help with stripping issue\n",
    "##look into regex library"
   ]
  },
  {
   "cell_type": "code",
   "execution_count": 1,
   "metadata": {},
   "outputs": [
    {
     "ename": "NameError",
     "evalue": "name 'df' is not defined",
     "output_type": "error",
     "traceback": [
      "\u001b[1;31m---------------------------------------------------------------------------\u001b[0m",
      "\u001b[1;31mNameError\u001b[0m                                 Traceback (most recent call last)",
      "\u001b[1;32m<ipython-input-1-ea7bb49a9291>\u001b[0m in \u001b[0;36m<module>\u001b[1;34m\u001b[0m\n\u001b[1;32m----> 1\u001b[1;33m \u001b[0mmf\u001b[0m\u001b[1;33m=\u001b[0m\u001b[0mdf\u001b[0m\u001b[1;33m.\u001b[0m\u001b[0mjoin\u001b[0m\u001b[1;33m(\u001b[0m\u001b[0mdf_2\u001b[0m\u001b[1;33m)\u001b[0m\u001b[1;33m\u001b[0m\u001b[1;33m\u001b[0m\u001b[0m\n\u001b[0m\u001b[0;32m      2\u001b[0m \u001b[0mmf\u001b[0m\u001b[1;33m.\u001b[0m\u001b[0minfo\u001b[0m\u001b[1;33m\u001b[0m\u001b[1;33m\u001b[0m\u001b[0m\n",
      "\u001b[1;31mNameError\u001b[0m: name 'df' is not defined"
     ]
    }
   ],
   "source": []
  },
  {
   "cell_type": "code",
   "execution_count": null,
   "metadata": {},
   "outputs": [],
   "source": []
  }
 ],
 "metadata": {
  "kernelspec": {
   "display_name": "Python 3",
   "language": "python",
   "name": "python3"
  },
  "language_info": {
   "codemirror_mode": {
    "name": "ipython",
    "version": 3
   },
   "file_extension": ".py",
   "mimetype": "text/x-python",
   "name": "python",
   "nbconvert_exporter": "python",
   "pygments_lexer": "ipython3",
   "version": "3.7.4"
  }
 },
 "nbformat": 4,
 "nbformat_minor": 2
}
