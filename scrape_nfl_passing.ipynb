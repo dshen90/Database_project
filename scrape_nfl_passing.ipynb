{
 "cells": [
  {
   "cell_type": "code",
   "execution_count": 1,
   "metadata": {},
   "outputs": [],
   "source": [
    "import pandas as pd\n",
    "from splinter import Browser\n",
    "import time\n",
    "import re\n",
    "import pymongo"
   ]
  },
  {
   "cell_type": "code",
   "execution_count": 17,
   "metadata": {},
   "outputs": [],
   "source": []
  },
  {
   "cell_type": "code",
   "execution_count": 22,
   "metadata": {},
   "outputs": [],
   "source": []
  },
  {
   "cell_type": "code",
   "execution_count": 2,
   "metadata": {},
   "outputs": [
    {
     "name": "stdout",
     "output_type": "stream",
     "text": [
      "cycle complete\n"
     ]
    }
   ],
   "source": [
    "# URL for scraping\n",
    "url = 'https://www.espn.com/nfl/stats/player/_/view/'\n",
    "\n",
    "#setting up browser\n",
    "executable_path = {'executable_path': '../chromedriver.exe'}\n",
    "browser = Browser('chrome', **executable_path, headless=False)\n",
    "browser.visit(url)\n",
    "\n",
    "# while loop to move through webpage clicking show more, then grabbing the full page\n",
    "flag=True\n",
    "while flag:\n",
    "    try:\n",
    "        browser.click_link_by_text('Show More')\n",
    "        time.sleep(2)\n",
    "    except:\n",
    "        print('cycle complete')\n",
    "        flag= False\n",
    "if flag==False:\n",
    "    passing_tables= pd.read_html(browser.html)\n",
    "    \n",
    "# data cleaning: table comes as two, need to join\n",
    "df=passing_tables[0]\n",
    "df_2=passing_tables[1]\n",
    "\n",
    "\n",
    "#join the cleaned tables\n",
    "mf=df.join(df_2)\n",
    "mf\n",
    "\n",
    "#cleaning data: seperating team name from player names\n",
    "#and putting them in a different column\n",
    "mf['Name'] = mf['Name'].astype(str)\n",
    "mf[['Team']]= mf['Name'].str.extract('([A-Z][A-Z]+)',expand =True)\n",
    "mf['Name'] = mf.apply(lambda x: x['Name'].replace(x['Team'],\"\"), axis=1)\n",
    "\n",
    "#data cleaning: drop nulls for players with no QBR\n",
    "mf['QBR']=mf['QBR'].fillna(0)\n",
    "\n",
    "#add data into MongoDB\n",
    "conn = 'mongodb://localhost:27017'\n",
    "client = pymongo.MongoClient(conn)\n",
    "db=client.NFL_StatsDB\n",
    "collection=db.passing\n",
    "data1 = mf.to_dict(orient='records')\n",
    "collection.insert_many(data1)"
   ]
  },
  {
   "cell_type": "code",
   "execution_count": 25,
   "metadata": {},
   "outputs": [],
   "source": [
    "# # data cleaning: seperating team name from player name, then creating lists\n",
    "# # to add the seperated names into appropriate columns\n",
    "# teams_list=[]\n",
    "# names_list=[]\n",
    "# for item in df.Name:\n",
    "#     if item[-3].isupper():\n",
    "#         teams_list.append(item[-3:])\n",
    "#         names_list.append(item[:-3])\n",
    "#     else:\n",
    "#         teams_list.append(item[-2:])\n",
    "#         names_list.append(item[:-2])\n",
    "# df.Name=names_list\n",
    "# df['Team Name']=teams_list\n",
    "\n",
    "##look into camelcase to help with stripping issue\n",
    "##look into regex library"
   ]
  },
  {
   "cell_type": "code",
   "execution_count": null,
   "metadata": {},
   "outputs": [],
   "source": []
  }
 ],
 "metadata": {
  "kernelspec": {
   "display_name": "Python 3",
   "language": "python",
   "name": "python3"
  },
  "language_info": {
   "codemirror_mode": {
    "name": "ipython",
    "version": 3
   },
   "file_extension": ".py",
   "mimetype": "text/x-python",
   "name": "python",
   "nbconvert_exporter": "python",
   "pygments_lexer": "ipython3",
   "version": "3.7.4"
  }
 },
 "nbformat": 4,
 "nbformat_minor": 2
}
