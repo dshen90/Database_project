{
 "cells": [
  {
   "cell_type": "code",
   "execution_count": 1,
   "metadata": {},
   "outputs": [],
   "source": [
    "import pandas as pd\n",
    "from splinter import Browser\n",
    "import time\n",
    "import pymongo"
   ]
  },
  {
   "cell_type": "code",
   "execution_count": 2,
   "metadata": {},
   "outputs": [],
   "source": [
    "url = 'https://www.espn.com/nfl/stats/player/_/stat/rushing'"
   ]
  },
  {
   "cell_type": "code",
   "execution_count": 3,
   "metadata": {},
   "outputs": [],
   "source": [
    "executable_path = {'executable_path': 'C:/Users/Daniel/Desktop/Drivers/chromedriver.exe'}\n",
    "browser = Browser('chrome', **executable_path, headless=False)"
   ]
  },
  {
   "cell_type": "code",
   "execution_count": 4,
   "metadata": {},
   "outputs": [
    {
     "name": "stdout",
     "output_type": "stream",
     "text": [
      "cycle complete\n"
     ]
    }
   ],
   "source": [
    "browser.visit(url)\n",
    "flag=True\n",
    "while flag:\n",
    "    try:\n",
    "        browser.click_link_by_text('Show More')\n",
    "        time.sleep(1)\n",
    "    except:\n",
    "        print('cycle complete')\n",
    "        flag= False\n",
    "if flag==False:\n",
    "    rushing_tables= pd.read_html(browser.html)"
   ]
  },
  {
   "cell_type": "code",
   "execution_count": 5,
   "metadata": {},
   "outputs": [],
   "source": [
    "df=rushing_tables[0]\n",
    "df_2=rushing_tables[1]"
   ]
  },
  {
   "cell_type": "code",
   "execution_count": 20,
   "metadata": {},
   "outputs": [],
   "source": [
    "# teams_list=[]\n",
    "# names_list=[]\n",
    "# for item in df.Name:\n",
    "#     if item[-3].isupper():\n",
    "#         teams_list.append(item[-3:])\n",
    "#         names_list.append(item[:-3])\n",
    "#     else:\n",
    "#         teams_list.append(item[-2:])\n",
    "#         names_list.append(item[:-2])\n",
    "# df.Name=names_list\n",
    "# df['Team Name']=teams_list\n",
    "\n",
    "##look into camelcase to help with stripping issue\n",
    "##look into regex library"
   ]
  },
  {
   "cell_type": "code",
   "execution_count": 6,
   "metadata": {},
   "outputs": [],
   "source": [
    "mf=df.join(df_2)\n",
    "\n",
    "\n",
    "mf['Name'] = mf['Name'].astype(str)\n",
    "mf[['Team']]= mf['Name'].str.extract('([A-Z][A-Z]+)',expand =True)\n",
    "mf['Name'] = mf.apply(lambda x: x['Name'].replace(x['Team'],\"\"), axis=1)"
   ]
  },
  {
   "cell_type": "code",
   "execution_count": 7,
   "metadata": {},
   "outputs": [
    {
     "data": {
      "text/plain": [
       "<pymongo.results.InsertManyResult at 0x16642357f08>"
      ]
     },
     "execution_count": 7,
     "metadata": {},
     "output_type": "execute_result"
    }
   ],
   "source": [
    "conn = 'mongodb://localhost:27017'\n",
    "client = pymongo.MongoClient(conn)\n",
    "db=client.NFL_StatsDB\n",
    "collection=db.rushing\n",
    "data1 = mf.to_dict(orient='records')\n",
    "collection.insert_many(data1)"
   ]
  },
  {
   "cell_type": "code",
   "execution_count": null,
   "metadata": {},
   "outputs": [],
   "source": []
  }
 ],
 "metadata": {
  "kernelspec": {
   "display_name": "Python 3",
   "language": "python",
   "name": "python3"
  },
  "language_info": {
   "codemirror_mode": {
    "name": "ipython",
    "version": 3
   },
   "file_extension": ".py",
   "mimetype": "text/x-python",
   "name": "python",
   "nbconvert_exporter": "python",
   "pygments_lexer": "ipython3",
   "version": "3.7.4"
  }
 },
 "nbformat": 4,
 "nbformat_minor": 2
}
